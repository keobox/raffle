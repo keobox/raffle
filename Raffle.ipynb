{
 "cells": [
  {
   "cell_type": "markdown",
   "id": "540c3db8",
   "metadata": {},
   "source": [
    "# The Pythonic Raffle"
   ]
  },
  {
   "cell_type": "markdown",
   "id": "9fcfaf83",
   "metadata": {},
   "source": [
    "## Use Python to select the raffle winners"
   ]
  },
  {
   "cell_type": "markdown",
   "id": "d9dc1276",
   "metadata": {},
   "source": [
    "For sure you know the `Pythonic` term, and for me this means `No frills`. Direct to the point in a pragmatic way!"
   ]
  },
  {
   "cell_type": "markdown",
   "id": "ca663eb4",
   "metadata": {},
   "source": [
    "Our task is to select a winner and Python has what we need: built in `list`s and the `random` standard module! No Frills!"
   ]
  },
  {
   "cell_type": "markdown",
   "id": "350bfe7b",
   "metadata": {},
   "source": [
    "We can just open an Interpreter and do our task!"
   ]
  },
  {
   "cell_type": "code",
   "execution_count": 1,
   "id": "2488d3af",
   "metadata": {},
   "outputs": [],
   "source": [
    "import random"
   ]
  },
  {
   "cell_type": "code",
   "execution_count": 2,
   "id": "9e02febc",
   "metadata": {},
   "outputs": [
    {
     "name": "stdout",
     "output_type": "stream",
     "text": [
      "Help on method shuffle in module random:\n",
      "\n",
      "shuffle(x, random=None) method of random.Random instance\n",
      "    Shuffle list x in place, and return None.\n",
      "    \n",
      "    Optional argument random is a 0-argument function returning a\n",
      "    random float in [0.0, 1.0); if it is the default None, the\n",
      "    standard random.random will be used.\n",
      "\n"
     ]
    }
   ],
   "source": [
    "help(random.shuffle)"
   ]
  },
  {
   "cell_type": "markdown",
   "id": "76d9c1fc",
   "metadata": {},
   "source": [
    "This is a [Fisher–Yates shuffle](https://en.wikipedia.org/wiki/Fisher%E2%80%93Yates_shuffle) shuffling algorithm A.K.A Knuth Shuffling, it's optimal! It's O(N). **We are on Giants' shoulders!**"
   ]
  },
  {
   "cell_type": "markdown",
   "id": "a6c42834",
   "metadata": {},
   "source": [
    "### Trivia"
   ]
  },
  {
   "cell_type": "markdown",
   "id": "de1451ee",
   "metadata": {},
   "source": [
    "Ironically shuffling, is O(N) but sorting is O(NlogN), but Python has something to say also about this! The `list` implementation has an inplace sorting algorithm invented during the lists interpreter's implementation! The author Tim Peters invented [Timsort](https://en.wikipedia.org/wiki/Timsort) which is used in many languages!"
   ]
  },
  {
   "cell_type": "markdown",
   "id": "18736066",
   "metadata": {},
   "source": [
    "### But wo/o further ado let's go to extract the tickets!!"
   ]
  },
  {
   "cell_type": "markdown",
   "id": "25e3f033",
   "metadata": {},
   "source": [
    "Use **seed** to fix the shuffling so is repeteable"
   ]
  },
  {
   "cell_type": "code",
   "execution_count": 3,
   "id": "a56244c8",
   "metadata": {},
   "outputs": [],
   "source": [
    "RAFFLE_SEED = 42 + 666 + 54 + 90"
   ]
  },
  {
   "cell_type": "code",
   "execution_count": 4,
   "id": "57e71e10",
   "metadata": {},
   "outputs": [
    {
     "data": {
      "text/plain": [
       "852"
      ]
     },
     "execution_count": 4,
     "metadata": {},
     "output_type": "execute_result"
    }
   ],
   "source": [
    "RAFFLE_SEED"
   ]
  },
  {
   "cell_type": "code",
   "execution_count": 5,
   "id": "39b8537b",
   "metadata": {},
   "outputs": [],
   "source": [
    "WINNERS = 35"
   ]
  },
  {
   "cell_type": "code",
   "execution_count": 6,
   "id": "0178688f",
   "metadata": {},
   "outputs": [],
   "source": [
    "random.seed(RAFFLE_SEED)"
   ]
  },
  {
   "cell_type": "code",
   "execution_count": 7,
   "id": "6dca100e",
   "metadata": {},
   "outputs": [],
   "source": [
    "import csv"
   ]
  },
  {
   "cell_type": "code",
   "execution_count": 8,
   "id": "7fd4d9ab",
   "metadata": {},
   "outputs": [],
   "source": [
    "with open(\"waitlist.csv\") as data_file:\n",
    "    raffle = csv.reader(data_file)\n",
    "    players = {player[1][0]: player[1][1] for player in enumerate(raffle) if player[0] > 0}"
   ]
  },
  {
   "cell_type": "code",
   "execution_count": 9,
   "id": "b43c9cc4",
   "metadata": {},
   "outputs": [],
   "source": [
    "attendees = list(players.keys())"
   ]
  },
  {
   "cell_type": "code",
   "execution_count": 10,
   "id": "82594f55",
   "metadata": {},
   "outputs": [],
   "source": [
    "random.shuffle(attendees)"
   ]
  },
  {
   "cell_type": "markdown",
   "id": "945578b4",
   "metadata": {},
   "source": [
    "## And the winners are..."
   ]
  },
  {
   "cell_type": "code",
   "execution_count": 11,
   "id": "d2154d67",
   "metadata": {},
   "outputs": [],
   "source": [
    "attendees = set(attendees[:WINNERS])"
   ]
  },
  {
   "cell_type": "code",
   "execution_count": 12,
   "id": "562e9472",
   "metadata": {},
   "outputs": [
    {
     "data": {
      "text/plain": [
       "35"
      ]
     },
     "execution_count": 12,
     "metadata": {},
     "output_type": "execute_result"
    }
   ],
   "source": [
    "len(attendees)"
   ]
  },
  {
   "cell_type": "code",
   "execution_count": 13,
   "id": "102bed51",
   "metadata": {},
   "outputs": [],
   "source": [
    "winners = [item for item in players.items() if item[0] in attendees]"
   ]
  },
  {
   "cell_type": "code",
   "execution_count": 14,
   "id": "08a8fc3a",
   "metadata": {},
   "outputs": [],
   "source": [
    "with open(\"winners.csv\", \"w\") as dump_file:\n",
    "    writer = csv.writer(dump_file)\n",
    "    writer.writerows(winners)"
   ]
  }
 ],
 "metadata": {
  "kernelspec": {
   "display_name": "Python 3 (ipykernel)",
   "language": "python",
   "name": "python3"
  },
  "language_info": {
   "codemirror_mode": {
    "name": "ipython",
    "version": 3
   },
   "file_extension": ".py",
   "mimetype": "text/x-python",
   "name": "python",
   "nbconvert_exporter": "python",
   "pygments_lexer": "ipython3",
   "version": "3.8.12"
  }
 },
 "nbformat": 4,
 "nbformat_minor": 5
}
